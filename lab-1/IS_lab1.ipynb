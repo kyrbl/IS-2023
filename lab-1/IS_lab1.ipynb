{
  "nbformat": 4,
  "nbformat_minor": 0,
  "metadata": {
    "colab": {
      "provenance": []
    },
    "kernelspec": {
      "name": "python3",
      "display_name": "Python 3"
    },
    "language_info": {
      "name": "python"
    }
  },
  "cells": [
    {
      "cell_type": "code",
      "source": [
        "from google.colab import drive\n",
        "drive.mount('/content/drive')"
      ],
      "metadata": {
        "colab": {
          "base_uri": "https://localhost:8080/"
        },
        "id": "ob8l9vRtWYcj",
        "outputId": "0331b969-dcbb-46ad-93ab-1a5423ee3843"
      },
      "execution_count": 27,
      "outputs": [
        {
          "output_type": "stream",
          "name": "stdout",
          "text": [
            "Drive already mounted at /content/drive; to attempt to forcibly remount, call drive.mount(\"/content/drive\", force_remount=True).\n"
          ]
        }
      ]
    },
    {
      "cell_type": "code",
      "execution_count": 28,
      "metadata": {
        "id": "fdHfou9R5w8l"
      },
      "outputs": [],
      "source": [
        "import tensorflow as tf\n",
        "import numpy as np\n",
        "import matplotlib.pyplot as plt\n",
        "from sklearn import datasets"
      ]
    },
    {
      "cell_type": "code",
      "source": [
        "NUM_EPOCHS = 100"
      ],
      "metadata": {
        "id": "h6Y8VrxrrEuy"
      },
      "execution_count": 29,
      "outputs": []
    },
    {
      "cell_type": "markdown",
      "source": [
        "#Declaring necessary methods and defining model"
      ],
      "metadata": {
        "id": "2xEHT2XmrJYo"
      }
    },
    {
      "cell_type": "markdown",
      "source": [
        "Here simple polynomial regressions with 3 parameters is declared. Parameters are all initialized with ones. For training MSE with L1 regularization with mini-bathc gradient method is used."
      ],
      "metadata": {
        "id": "dPTBrhDCrTeK"
      }
    },
    {
      "cell_type": "code",
      "source": [
        "def loss(y_true, y_pred, lamb, params):\n",
        "    return tf.reduce_mean(tf.square(y_true - y_pred)) + lamb*tf.reduce_sum(tf.abs(params))"
      ],
      "metadata": {
        "id": "UGFslZ9NXfkJ"
      },
      "execution_count": 30,
      "outputs": []
    },
    {
      "cell_type": "code",
      "source": [
        "def grad_step(model, inputs, outputs, learning_rate, l1_lamb):\n",
        "    with tf.GradientTape() as tape:\n",
        "        current_loss = loss(model(inputs), outputs, l1_lamb, model.get_parameters())\n",
        "        grads = tape.gradient(current_loss, model.get_parameters())\n",
        "\n",
        "    for i in range(len(grads)):\n",
        "        model.params[i].assign_sub(learning_rate * grads[i])\n",
        "        \n",
        "    return current_loss"
      ],
      "metadata": {
        "id": "rOOabDvwaboK"
      },
      "execution_count": 31,
      "outputs": []
    },
    {
      "cell_type": "code",
      "source": [
        "def train(model, train_dataset, num_epochs, learning_rate, l1_lamb):\n",
        "    for epoch in range(1, num_epochs + 1):\n",
        "        for i, batch in enumerate(train_dataset):\n",
        "            data, expected = batch\n",
        "            loss_val = grad_step(model, data, expected, learning_rate, l1_lamb)\n",
        "\n",
        "        if epoch%10==0:\n",
        "            print('Epoch {:4d} Loss {:6.4f}'.format(int(epoch), loss_val))\n",
        "    model.save_weights(f\"./drive/MyDrive/ColabData/IS_1/{model.name}/\")"
      ],
      "metadata": {
        "id": "htzDFpnCbOh0"
      },
      "execution_count": 32,
      "outputs": []
    },
    {
      "cell_type": "markdown",
      "source": [
        "# Using generated dataset"
      ],
      "metadata": {
        "id": "iALR1DqCq2Gb"
      }
    },
    {
      "cell_type": "code",
      "source": [
        "X_data = np.linspace(-1, 1, 100)\n",
        "num_coef=3\n",
        "coef =[1, 2, 3]\n",
        "y_data=0\n",
        "\n",
        "for i in range (num_coef):\n",
        "    y_data += coef[i]*np.power (X_data, i)\n",
        "    y_data += np.random.randn(*X_data.shape)*0.5"
      ],
      "metadata": {
        "id": "1XkiFCFp6HyB"
      },
      "execution_count": 33,
      "outputs": []
    },
    {
      "cell_type": "code",
      "source": [
        "plt.plot(X_data, y_data)\n",
        "plt.xlabel('x - axis')\n",
        "plt.ylabel('y - axis')"
      ],
      "metadata": {
        "colab": {
          "base_uri": "https://localhost:8080/",
          "height": 296
        },
        "id": "ylm9WvM-7AHW",
        "outputId": "2b3f94a0-e355-4b27-8f28-8ca6d61d249b"
      },
      "execution_count": 34,
      "outputs": [
        {
          "output_type": "execute_result",
          "data": {
            "text/plain": [
              "Text(0, 0.5, 'y - axis')"
            ]
          },
          "metadata": {},
          "execution_count": 34
        },
        {
          "output_type": "display_data",
          "data": {
            "text/plain": [
              "<Figure size 432x288 with 1 Axes>"
            ],
            "image/png": "[encoded data removed]"
          },
          "metadata": {
            "needs_background": "light"
          }
        }
      ]
    },
    {
      "cell_type": "code",
      "source": [
        "train_dataset = tf.data.Dataset.from_tensor_slices(\n",
        "    (tf.cast(X_data[:80], tf.float32),\n",
        "     tf.cast(y_data[:80], tf.float32))\n",
        ").batch(10)"
      ],
      "metadata": {
        "id": "aHTaz0B6WcoR"
      },
      "execution_count": 35,
      "outputs": []
    },
    {
      "cell_type": "code",
      "source": [
        "class MyModel(tf.keras.Model):\n",
        "    def __init__(self):\n",
        "        super(MyModel, self).__init__()\n",
        "        self.params = [\n",
        "            tf.Variable(1.0, name='a'), \n",
        "            tf.Variable(1.0, name='b'), \n",
        "            tf.Variable(1.0, name='c')\n",
        "        ]\n",
        "\n",
        "    def call(self, x):\n",
        "        return self.params[0]*x**2 + self.params[1]*x + self.params[2]\n",
        "\n",
        "    def get_parameters(self):\n",
        "        return self.params"
      ],
      "metadata": {
        "id": "IZ-z4CHHW9mB"
      },
      "execution_count": 36,
      "outputs": []
    },
    {
      "cell_type": "code",
      "source": [
        "model = MyModel()\n",
        "model.build(input_shape=(None, 1))"
      ],
      "metadata": {
        "id": "mVnZoXquaWvK"
      },
      "execution_count": 37,
      "outputs": []
    },
    {
      "cell_type": "code",
      "source": [
        "learning_rate = 0.01\n",
        "l1_lamb = 0.001"
      ],
      "metadata": {
        "id": "PMfJha0Wm9qZ"
      },
      "execution_count": 38,
      "outputs": []
    },
    {
      "cell_type": "code",
      "source": [
        "train(model, train_dataset, NUM_EPOCHS, learning_rate, l1_lamb)"
      ],
      "metadata": {
        "colab": {
          "base_uri": "https://localhost:8080/"
        },
        "id": "yArrSmprnXzw",
        "outputId": "9b4a6868-99ab-4cf3-8f14-69e7b1c06efb"
      },
      "execution_count": 39,
      "outputs": [
        {
          "output_type": "stream",
          "name": "stdout",
          "text": [
            "Epoch   10 Loss 1.4389\n",
            "Epoch   20 Loss 1.3674\n",
            "Epoch   30 Loss 1.3359\n",
            "Epoch   40 Loss 1.3135\n",
            "Epoch   50 Loss 1.2954\n",
            "Epoch   60 Loss 1.2804\n",
            "Epoch   70 Loss 1.2679\n",
            "Epoch   80 Loss 1.2575\n",
            "Epoch   90 Loss 1.2490\n",
            "Epoch  100 Loss 1.2420\n"
          ]
        }
      ]
    },
    {
      "cell_type": "code",
      "source": [
        "y_pred = model.predict(X_data)"
      ],
      "metadata": {
        "colab": {
          "base_uri": "https://localhost:8080/"
        },
        "id": "nWrHhI2KkAS_",
        "outputId": "2865a7df-e95a-4ad4-d26f-f9667bd9f550"
      },
      "execution_count": 40,
      "outputs": [
        {
          "output_type": "stream",
          "name": "stdout",
          "text": [
            "4/4 [==============================] - 0s 2ms/step\n"
          ]
        }
      ]
    },
    {
      "cell_type": "code",
      "source": [
        "fig = plt.figure(figsize=(13, 5))\n",
        "plt.plot(X_data[:80], y_data[:80])\n",
        "plt.plot(X_data[79:], y_data[79:])\n",
        "plt.plot(X_data[:80], y_pred[:80], '--')\n",
        "plt.plot(X_data[79:], y_pred[79:], '--')\n",
        "plt.xlabel('x - axis')\n",
        "plt.ylabel('y - axis')\n",
        "plt.legend([\"Training data\", 'Testing data', 'Train pred', \"Test pred\"])"
      ],
      "metadata": {
        "colab": {
          "base_uri": "https://localhost:8080/",
          "height": 351
        },
        "id": "gwDzv5gmkMYn",
        "outputId": "2e9742c7-21bd-4ea1-df80-985514478653"
      },
      "execution_count": 41,
      "outputs": [
        {
          "output_type": "execute_result",
          "data": {
            "text/plain": [
              "<matplotlib.legend.Legend at 0x7f625a39d2b0>"
            ]
          },
          "metadata": {},
          "execution_count": 41
        },
        {
          "output_type": "display_data",
          "data": {
            "text/plain": [
              "<Figure size 936x360 with 1 Axes>"
            ],
            "image/png": "[encoded data removed]"
          },
          "metadata": {
            "needs_background": "light"
          }
        }
      ]
    },
    {
      "cell_type": "markdown",
      "source": [
        "# sklearn.datasets.load_diabetes"
      ],
      "metadata": {
        "id": "VMns9cTGRoJ5"
      }
    },
    {
      "cell_type": "code",
      "source": [
        "diabetes_X, diabetes_y = datasets.load_diabetes(return_X_y=True)\n",
        "diabetes_X = diabetes_X[:, np.newaxis, 2]"
      ],
      "metadata": {
        "id": "Cdj5fiujSCbB"
      },
      "execution_count": 42,
      "outputs": []
    },
    {
      "cell_type": "code",
      "source": [
        "plt.scatter(diabetes_X, diabetes_y)\n",
        "plt.xlabel('x - axis')\n",
        "plt.ylabel('y - axis')"
      ],
      "metadata": {
        "colab": {
          "base_uri": "https://localhost:8080/",
          "height": 296
        },
        "id": "m8I-rNDgSNNY",
        "outputId": "09e7844d-d34e-4458-da66-bccf119d7607"
      },
      "execution_count": 43,
      "outputs": [
        {
          "output_type": "execute_result",
          "data": {
            "text/plain": [
              "Text(0, 0.5, 'y - axis')"
            ]
          },
          "metadata": {},
          "execution_count": 43
        },
        {
          "output_type": "display_data",
          "data": {
            "text/plain": [
              "<Figure size 432x288 with 1 Axes>"
            ],
            "image/png": "[encoded data removed]"
          },
          "metadata": {
            "needs_background": "light"
          }
        }
      ]
    },
    {
      "cell_type": "code",
      "source": [
        "diabetes_train_dataset = tf.data.Dataset.from_tensor_slices(\n",
        "    (tf.cast(diabetes_X[:400], tf.float32),\n",
        "     tf.cast(diabetes_y[:400], tf.float32))\n",
        ").batch(25)"
      ],
      "metadata": {
        "id": "oh2J829SSPWI"
      },
      "execution_count": 44,
      "outputs": []
    },
    {
      "cell_type": "code",
      "source": [
        "class DiabModel(tf.keras.Model):\n",
        "    def __init__(self):\n",
        "        super(DiabModel, self).__init__()\n",
        "        self.params = [\n",
        "            tf.Variable(0.0, name='a'), \n",
        "            tf.Variable(0.0, name='b'),\n",
        "            tf.Variable(0.0, name='c'),\n",
        "        ]\n",
        "\n",
        "    def call(self, x):\n",
        "        return self.params[0]*x**2 + self.params[1]*x + self.params[2]\n",
        "\n",
        "    def get_parameters(self):\n",
        "        return self.params"
      ],
      "metadata": {
        "id": "b_UXGabPSRNo"
      },
      "execution_count": 45,
      "outputs": []
    },
    {
      "cell_type": "code",
      "source": [
        "diabetis_model = DiabModel()\n",
        "model.build(input_shape=(None, 1))"
      ],
      "metadata": {
        "id": "3HtczahOSTCw"
      },
      "execution_count": 46,
      "outputs": []
    },
    {
      "cell_type": "code",
      "source": [
        "learning_rate = 0.1\n",
        "l1_lamb = 0.001"
      ],
      "metadata": {
        "id": "xKABgnucSUtg"
      },
      "execution_count": 47,
      "outputs": []
    },
    {
      "cell_type": "code",
      "source": [
        "train(diabetis_model, diabetes_train_dataset, NUM_EPOCHS, learning_rate, l1_lamb)"
      ],
      "metadata": {
        "colab": {
          "base_uri": "https://localhost:8080/"
        },
        "id": "eSnRnAxjSWpp",
        "outputId": "cf483c62-4eaf-4a1d-bca3-1682b506f322"
      },
      "execution_count": 48,
      "outputs": [
        {
          "output_type": "stream",
          "name": "stdout",
          "text": [
            "Epoch   10 Loss 6826.5142\n",
            "Epoch   20 Loss 6825.7891\n",
            "Epoch   30 Loss 6825.1709\n",
            "Epoch   40 Loss 6824.6455\n",
            "Epoch   50 Loss 6824.2002\n",
            "Epoch   60 Loss 6823.8218\n",
            "Epoch   70 Loss 6823.5029\n",
            "Epoch   80 Loss 6823.2344\n",
            "Epoch   90 Loss 6823.0088\n",
            "Epoch  100 Loss 6822.8203\n"
          ]
        }
      ]
    },
    {
      "cell_type": "code",
      "source": [
        "diabetes_y_pred = diabetis_model.predict(diabetes_X)"
      ],
      "metadata": {
        "colab": {
          "base_uri": "https://localhost:8080/"
        },
        "id": "QuoMlxdISZRw",
        "outputId": "d334da90-ba43-488e-a7ad-37425904f66f"
      },
      "execution_count": 49,
      "outputs": [
        {
          "output_type": "stream",
          "name": "stdout",
          "text": [
            "14/14 [==============================] - 0s 1ms/step\n"
          ]
        }
      ]
    },
    {
      "cell_type": "code",
      "source": [
        "plt.scatter(diabetes_X[400:], diabetes_y[400:])\n",
        "plt.plot(diabetes_X[400:], diabetes_y_pred[400:], color=\"orange\")\n",
        "plt.xlabel('x - axis')\n",
        "plt.ylabel('y - axis')\n",
        "plt.legend([\"Actual\", \"Pred\"])"
      ],
      "metadata": {
        "colab": {
          "base_uri": "https://localhost:8080/",
          "height": 296
        },
        "id": "SiDunIx6Sb4D",
        "outputId": "d77ad1d4-3049-4665-c7fb-793bf53bd17d"
      },
      "execution_count": 50,
      "outputs": [
        {
          "output_type": "execute_result",
          "data": {
            "text/plain": [
              "<matplotlib.legend.Legend at 0x7f625a201f10>"
            ]
          },
          "metadata": {},
          "execution_count": 50
        },
        {
          "output_type": "display_data",
          "data": {
            "text/plain": [
              "<Figure size 432x288 with 1 Axes>"
            ],
            "image/png": "[encoded data removed]"
          },
          "metadata": {
            "needs_background": "light"
          }
        }
      ]
    },
    {
      "cell_type": "code",
      "source": [
        "constant = tf.constant([1, 2, 3])\n",
        "new_type = tf.cast(constant, tf.float32)\n",
        "new_type"
      ],
      "metadata": {
        "colab": {
          "base_uri": "https://localhost:8080/"
        },
        "id": "VriRJb6eeXTd",
        "outputId": "4a993530-b63c-47e1-e4a2-6de390fa66a5"
      },
      "execution_count": 52,
      "outputs": [
        {
          "output_type": "execute_result",
          "data": {
            "text/plain": [
              "<tf.Tensor: shape=(3,), dtype=float32, numpy=array([1., 2., 3.], dtype=float32)>"
            ]
          },
          "metadata": {},
          "execution_count": 52
        }
      ]
    },
    {
      "cell_type": "code",
      "source": [
        "constant = tf.zeros(shape=(10))\n",
        "new_shape = tf.reshape(constant, shape=(2, 5))\n",
        "new_shape.shape"
      ],
      "metadata": {
        "colab": {
          "base_uri": "https://localhost:8080/"
        },
        "id": "xwMOM3j_erAs",
        "outputId": "bc33b7c7-a6ec-47f4-d905-0edc1034f203"
      },
      "execution_count": 53,
      "outputs": [
        {
          "output_type": "execute_result",
          "data": {
            "text/plain": [
              "TensorShape([2, 5])"
            ]
          },
          "metadata": {},
          "execution_count": 53
        }
      ]
    },
    {
      "cell_type": "code",
      "source": [
        "constant = tf.zeros(shape=(3,2))\n",
        "new_shape = tf.transpose(constant)\n",
        "new_shape.shape"
      ],
      "metadata": {
        "colab": {
          "base_uri": "https://localhost:8080/"
        },
        "id": "36U8qpbSfHhN",
        "outputId": "6c4bb736-ab0f-4c8c-a651-731c96c1e1a4"
      },
      "execution_count": 54,
      "outputs": [
        {
          "output_type": "execute_result",
          "data": {
            "text/plain": [
              "TensorShape([2, 3])"
            ]
          },
          "metadata": {},
          "execution_count": 54
        }
      ]
    },
    {
      "cell_type": "code",
      "source": [
        "constant = tf.zeros(shape=(1,2,1,3,1,1))\n",
        "new_shape = tf.squeeze(constant)\n",
        "new_shape.shape"
      ],
      "metadata": {
        "colab": {
          "base_uri": "https://localhost:8080/"
        },
        "id": "AhV7Y6-ifa69",
        "outputId": "5b560f87-b97b-4f0e-b042-2b8a998b95e0"
      },
      "execution_count": 55,
      "outputs": [
        {
          "output_type": "execute_result",
          "data": {
            "text/plain": [
              "TensorShape([2, 3])"
            ]
          },
          "metadata": {},
          "execution_count": 55
        }
      ]
    }
  ]
}